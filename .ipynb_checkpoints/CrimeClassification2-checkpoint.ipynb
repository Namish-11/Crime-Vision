{
 "cells": [
  {
   "cell_type": "code",
   "execution_count": 1,
   "metadata": {
    "id": "Lj1cx6cFsExf"
   },
   "outputs": [],
   "source": [
    "import pandas as pd\n",
    "import numpy as np\n",
    "import matplotlib.pyplot as plt\n",
    "import seaborn as sns\n",
    "import plotly.express as px\n",
    "import os\n",
    "import tensorflow\n",
    "from tensorflow.keras.preprocessing import image_dataset_from_directory\n",
    "from tensorflow.keras.layers import Dense, GlobalAveragePooling2D,Dropout,MaxPooling2D,Conv2D, Flatten\n",
    "from tensorflow.keras.models import Sequential\n",
    "from tensorflow.keras.applications import DenseNet121\n",
    "from sklearn.preprocessing import LabelBinarizer\n",
    "from IPython.display import clear_output\n",
    "import warnings\n",
    "warnings.filterwarnings('ignore')"
   ]
  },
  {
   "cell_type": "code",
   "execution_count": 4,
   "metadata": {
    "id": "bBLDmTyKF2kG"
   },
   "outputs": [],
   "source": [
    "train_dir='Train'\n",
    "test_dir='Test'\n",
    "Seed =10\n",
    "img_height=64\n",
    "img_width=64\n",
    "img_shape=(img_height,img_width)\n",
    "batch_size = 128\n",
    "epochs= 5\n",
    "learn_rate=0.00003"
   ]
  },
  {
   "cell_type": "code",
   "execution_count": 5,
   "metadata": {
    "id": "fFkpLvWsGTgM"
   },
   "outputs": [],
   "source": [
    "crime_types=os.listdir(train_dir)\n",
    "n=len(crime_types)"
   ]
  },
  {
   "cell_type": "code",
   "execution_count": 6,
   "metadata": {
    "id": "AxTflldkI3E6"
   },
   "outputs": [],
   "source": [
    "crimes={}\n",
    "train=test=0\n",
    "for clss in crime_types:\n",
    "  num=len(os.listdir(os.path.join(train_dir,clss)))\n",
    "  train+=num\n",
    "  test+=len(os.listdir(os.path.join(test_dir,clss)))\n",
    "  crimes[clss]=num"
   ]
  },
  {
   "cell_type": "code",
   "execution_count": 7,
   "metadata": {
    "colab": {
     "base_uri": "https://localhost:8080/",
     "height": 526
    },
    "id": "SbAg_wANSEym",
    "outputId": "d49c5640-abdc-43d4-acef-001e3edff2d3"
   },
   "outputs": [
    {
     "data": {
      "text/plain": [
       "([<matplotlib.patches.Wedge at 0x7fcd4638ce48>,\n",
       "  <matplotlib.patches.Wedge at 0x7fcd4639c5c0>],\n",
       " [Text(-1.1615504401079835, 0.3013313377080951, 'Training data'),\n",
       "  Text(1.1615504189484738, -0.3013314192722449, 'test data')],\n",
       " [Text(-0.5807752200539917, 0.15066566885404753, '91.9%'),\n",
       "  Text(0.5807752094742369, -0.1506657096361224, '8.1%')])"
      ]
     },
     "execution_count": 7,
     "metadata": {},
     "output_type": "execute_result"
    },
    {
     "data": {
      "image/png": "[encoded data removed]",
      "text/plain": [
       "<Figure size 576x360 with 1 Axes>"
      ]
     },
     "metadata": {},
     "output_type": "display_data"
    }
   ],
   "source": [
    "plt.figure(figsize=(8,5))\n",
    "plt.pie(x=np.array([train,test]),autopct=\"%0.1f%%\", explode=[0.1,0.1], labels=[\"Training data\",\"test data\"],pctdistance=0.5,colors=[\"yellow\",\"green\"])"
   ]
  },
  {
   "cell_type": "code",
   "execution_count": 8,
   "metadata": {
    "colab": {
     "base_uri": "https://localhost:8080/",
     "height": 417
    },
    "id": "J0_Qe7-ATKAC",
    "outputId": "0cc7407f-d483-4ee0-e1a1-6a06c772aa50"
   },
   "outputs": [
    {
     "data": {
      "image/png": "[encoded data removed]",
      "text/plain": [
       "<Figure size 1080x360 with 1 Axes>"
      ]
     },
     "metadata": {
      "needs_background": "light"
     },
     "output_type": "display_data"
    }
   ],
   "source": [
    "plt.figure(figsize=(15,5))\n",
    "plt.bar(list(crimes.keys()),list(crimes.values()),width=0.4,align=\"center\",edgecolor=[\"red\"],color=[\"orange\"])\n",
    "plt.xticks(rotation=90)\n",
    "plt.xlabel(\"Reported crimes\")\n",
    "plt.ylabel(\"Number of reported crimes\")\n",
    "plt.show()"
   ]
  },
  {
   "cell_type": "code",
   "execution_count": 9,
   "metadata": {
    "colab": {
     "base_uri": "https://localhost:8080/"
    },
    "id": "2lMNk3H8UNQ2",
    "outputId": "927ba31e-9b69-4873-aae6-d495b0b02e56"
   },
   "outputs": [
    {
     "name": "stdout",
     "output_type": "stream",
     "text": [
      "Found 1266345 files belonging to 14 classes.\n",
      "Using 1013076 files for training.\n"
     ]
    }
   ],
   "source": [
    "train_set=image_dataset_from_directory(train_dir,\n",
    "                                       label_mode=\"categorical\",\n",
    "                                       batch_size=batch_size,\n",
    "                                       image_size=(224,224),\n",
    "                                       shuffle=True,\n",
    "                                       seed=Seed,\n",
    "                                       validation_split=0.2,\n",
    "                                       subset=\"training\",\n",
    "                                       )"
   ]
  },
  {
   "cell_type": "code",
   "execution_count": null,
   "metadata": {
    "colab": {
     "base_uri": "https://localhost:8080/"
    },
    "id": "WoISJowoVOgs",
    "outputId": "b7d597d9-29f3-46dc-db10-0a1bd1c07b81"
   },
   "outputs": [],
   "source": [
    "val_set=image_dataset_from_directory(train_dir,\n",
    "                                       label_mode=\"categorical\",\n",
    "                                       batch_size=batch_size,\n",
    "                                       image_size=(224,224),\n",
    "                                       shuffle=True,\n",
    "                                       seed=Seed,\n",
    "                                       validation_split=0.2,\n",
    "                                       subset=\"validation\",\n",
    "                                       )"
   ]
  },
  {
   "cell_type": "code",
   "execution_count": null,
   "metadata": {
    "colab": {
     "base_uri": "https://localhost:8080/"
    },
    "id": "H9QKqH-oWq0m",
    "outputId": "c0b461d2-efbd-436a-c009-ee8767a1c6da"
   },
   "outputs": [
    {
     "name": "stdout",
     "output_type": "stream",
     "text": [
      "Found 111308 files belonging to 14 classes.\n"
     ]
    }
   ],
   "source": [
    "test_set=image_dataset_from_directory(test_dir,\n",
    "                                      label_mode=\"categorical\",\n",
    "                                      class_names=None,\n",
    "                                      batch_size=batch_size,\n",
    "                                      image_size=(224,224),\n",
    "                                      shuffle=False,\n",
    "                                      seed=Seed,\n",
    "                                      )"
   ]
  },
  {
   "cell_type": "markdown",
   "metadata": {
    "id": "_ZruTurDLE00"
   },
   "source": [
    "model building\n"
   ]
  },
  {
   "cell_type": "code",
   "execution_count": null,
   "metadata": {
    "id": "pAESZ6USXKpS"
   },
   "outputs": [],
   "source": [
    "def transfer_learning():\n",
    "  base_model=DenseNet121(include_top=False,input_shape=(224,224,3),weights=\"imagenet\")\n",
    "  thr=149\n",
    "  for layers in base_model.layers[:thr]:\n",
    "    layers.trainable=False\n",
    "  for layers in base_model.layers[thr:]:\n",
    "    layers.trainable=False\n",
    "  return base_model"
   ]
  },
  {
   "cell_type": "code",
   "execution_count": null,
   "metadata": {
    "id": "hHPImbpaYLl-"
   },
   "outputs": [],
   "source": [
    "def create_model():\n",
    "  model=Sequential()\n",
    "\n",
    "  base_model=transfer_learning()\n",
    "  model.add(base_model)\n",
    "\n",
    "  model.add(GlobalAveragePooling2D())\n",
    "\n",
    "  model.add(Dense(256,activation=\"relu\"))\n",
    "  model.add(Dropout(0.2))\n",
    "\n",
    "  model.add(Dense(512,activation=\"relu\"))\n",
    "  model.add(Dropout(0.2))\n",
    "\n",
    "  model.add(Dense(1024,activation=\"relu\"))\n",
    "\n",
    "  model.add(Dense(n,activation=\"softmax\"))\n",
    "\n",
    "  model.summary()\n",
    "\n",
    "  return model"
   ]
  },
  {
   "cell_type": "code",
   "execution_count": null,
   "metadata": {
    "colab": {
     "base_uri": "https://localhost:8080/"
    },
    "id": "zr66I00YZf6j",
    "outputId": "48bdd4b0-ab50-4365-f710-892a0102d28c"
   },
   "outputs": [
    {
     "name": "stdout",
     "output_type": "stream",
     "text": [
      "Downloading data from https://storage.googleapis.com/tensorflow/keras-applications/densenet/densenet121_weights_tf_dim_ordering_tf_kernels_notop.h5\n",
      "29084464/29084464 [==============================] - 0s 0us/step\n",
      "Model: \"sequential\"\n",
      "_________________________________________________________________\n",
      " Layer (type)                Output Shape              Param #   \n",
      "=================================================================\n",
      " densenet121 (Functional)    (None, 7, 7, 1024)        7037504   \n",
      "                                                                 \n",
      " global_average_pooling2d (G  (None, 1024)             0         \n",
      " lobalAveragePooling2D)                                          \n",
      "                                                                 \n",
      " dense (Dense)               (None, 256)               262400    \n",
      "                                                                 \n",
      " dropout (Dropout)           (None, 256)               0         \n",
      "                                                                 \n",
      " dense_1 (Dense)             (None, 512)               131584    \n",
      "                                                                 \n",
      " dropout_1 (Dropout)         (None, 512)               0         \n",
      "                                                                 \n",
      " dense_2 (Dense)             (None, 1024)              525312    \n",
      "                                                                 \n",
      " dense_3 (Dense)             (None, 14)                14350     \n",
      "                                                                 \n",
      "=================================================================\n",
      "Total params: 7,971,150\n",
      "Trainable params: 933,646\n",
      "Non-trainable params: 7,037,504\n",
      "_________________________________________________________________\n"
     ]
    }
   ],
   "source": [
    "model=create_model()\n",
    "\n",
    "model.compile(optimizer=\"adam\", loss=\"categorical_crossentropy\", metrics=[\"accuracy\"])"
   ]
  },
  {
   "cell_type": "markdown",
   "metadata": {
    "id": "iYM3qhhPLOaj"
   },
   "source": [
    "model training"
   ]
  },
  {
   "cell_type": "code",
   "execution_count": null,
   "metadata": {
    "colab": {
     "base_uri": "https://localhost:8080/"
    },
    "id": "yhqjb6qSZwMc",
    "outputId": "86896db6-558c-48bb-e3ca-c7e940152547"
   },
   "outputs": [
    {
     "name": "stdout",
     "output_type": "stream",
     "text": [
      "Epoch 1/5\n",
      "7915/7915 [==============================] - 3595s 451ms/step - loss: 0.2922 - accuracy: 0.9161 - val_loss: 0.0955 - val_accuracy: 0.9732\n",
      "Epoch 2/5\n",
      "7915/7915 [==============================] - 3587s 453ms/step - loss: 0.1484 - accuracy: 0.9570 - val_loss: 0.0537 - val_accuracy: 0.9860\n",
      "Epoch 3/5\n",
      "7915/7915 [==============================] - 3590s 453ms/step - loss: 0.1245 - accuracy: 0.9647 - val_loss: 0.0418 - val_accuracy: 0.9888\n",
      "Epoch 4/5\n",
      "7915/7915 [==============================] - 3594s 454ms/step - loss: 0.1128 - accuracy: 0.9683 - val_loss: 0.0358 - val_accuracy: 0.9905\n",
      "Epoch 5/5\n",
      "7915/7915 [==============================] - 3603s 455ms/step - loss: 0.1063 - accuracy: 0.9708 - val_loss: 0.0349 - val_accuracy: 0.9908\n"
     ]
    }
   ],
   "source": [
    "history=model.fit(x=train_set,validation_data=val_set,epochs=epochs)"
   ]
  },
  {
   "cell_type": "code",
   "execution_count": null,
   "metadata": {
    "id": "8bcYvt9Wbvc6"
   },
   "outputs": [],
   "source": [
    "model.save('crime_vision.h5')"
   ]
  },
  {
   "cell_type": "code",
   "execution_count": null,
   "metadata": {
    "id": "qS3Lz-Y2diMb"
   },
   "outputs": [],
   "source": [
    "from tensorflow.keras.models import load_model\n",
    "model.load_weights('/content/crime_vision.h5')"
   ]
  },
  {
   "cell_type": "code",
   "execution_count": null,
   "metadata": {
    "id": "0YMSetrCd6Bo"
   },
   "outputs": [],
   "source": [
    "y_true= np.array([])\n",
    "for x,y in test_set:\n",
    "  y_true=np.concatenate([y_true,np.argmax(y.numpy(),axis=-1)])"
   ]
  },
  {
   "cell_type": "code",
   "execution_count": null,
   "metadata": {
    "colab": {
     "base_uri": "https://localhost:8080/"
    },
    "id": "iwxOQG2TectY",
    "outputId": "4958f67d-3004-45de-8dc5-72fb9836a7e1"
   },
   "outputs": [
    {
     "data": {
      "text/plain": [
       "array([ 0.,  0.,  0., ..., 13., 13., 13.])"
      ]
     },
     "execution_count": 23,
     "metadata": {},
     "output_type": "execute_result"
    }
   ],
   "source": [
    "y_true"
   ]
  },
  {
   "cell_type": "code",
   "execution_count": null,
   "metadata": {
    "colab": {
     "base_uri": "https://localhost:8080/"
    },
    "id": "ryYkvvvveOCn",
    "outputId": "e11c7cf6-8339-4753-e95b-efdd9c097acc"
   },
   "outputs": [
    {
     "name": "stdout",
     "output_type": "stream",
     "text": [
      "870/870 [==============================] - 318s 364ms/step\n"
     ]
    },
    {
     "data": {
      "text/plain": [
       "array([[1.99983232e-02, 5.73431924e-02, 2.12578125e-05, ...,\n",
       "        7.11872303e-08, 1.47607017e-04, 8.64453614e-02],\n",
       "       [2.32983450e-03, 5.90169393e-02, 1.05944884e-04, ...,\n",
       "        4.57320448e-06, 4.51269792e-04, 8.85519832e-02],\n",
       "       [2.97827665e-02, 2.03254726e-02, 8.66446862e-05, ...,\n",
       "        4.07931999e-08, 5.48658572e-05, 2.91068237e-02],\n",
       "       ...,\n",
       "       [9.97288059e-03, 1.36954542e-02, 4.29670513e-03, ...,\n",
       "        1.08748488e-02, 1.65991876e-02, 1.70602649e-02],\n",
       "       [1.17110496e-03, 3.19995149e-03, 4.68374958e-04, ...,\n",
       "        1.42179790e-03, 1.50859926e-03, 2.60921987e-03],\n",
       "       [4.03818529e-04, 1.43140217e-03, 2.94161728e-04, ...,\n",
       "        1.63266144e-03, 7.99658708e-04, 1.26704236e-03]], dtype=float32)"
      ]
     },
     "execution_count": 24,
     "metadata": {},
     "output_type": "execute_result"
    }
   ],
   "source": [
    "y_pred=model.predict(test_set)\n",
    "y_pred"
   ]
  },
  {
   "cell_type": "code",
   "execution_count": null,
   "metadata": {
    "id": "jC37TFlpDoWk"
   },
   "outputs": [],
   "source": [
    "import keras.utils as image\n",
    "from tensorflow.keras.preprocessing.image import load_img"
   ]
  },
  {
   "cell_type": "code",
   "execution_count": null,
   "metadata": {
    "colab": {
     "base_uri": "https://localhost:8080/",
     "height": 70
    },
    "id": "0_cHfsLFeX04",
    "outputId": "e6e4763a-0e3b-4eb3-8b4f-402e1066343e"
   },
   "outputs": [
    {
     "name": "stdout",
     "output_type": "stream",
     "text": [
      "1/1 [==============================] - 3s 3s/step\n",
      "7\n"
     ]
    },
    {
     "data": {
      "application/vnd.google.colaboratory.intrinsic+json": {
       "type": "string"
      },
      "text/plain": [
       "'Abuse'"
      ]
     },
     "execution_count": 33,
     "metadata": {},
     "output_type": "execute_result"
    }
   ],
   "source": [
    "img= image.load_img(\"/content/Test/Abuse/Abuse028_x264_0.png\",target_size=(224,224))\n",
    "x=image.img_to_array(img)\n",
    "x=np.expand_dims(x,axis=0)\n",
    "pred=np.argmax(model.predict(x))\n",
    "op=['Fighting','Arrest','Vandalism','Assault','Stealing','Arson','NormalVideos','Abuse','Explosion','Robbery','Burglary','Shooting','Shoplifting','RoadAccidents']\n",
    "print(pred)\n",
    "op[pred]"
   ]
  },
  {
   "cell_type": "code",
   "execution_count": null,
   "metadata": {
    "colab": {
     "base_uri": "https://localhost:8080/",
     "height": 53
    },
    "id": "UNREPX5mnKXI",
    "outputId": "fcfb6fd7-22fd-43dc-f64b-2ca8bc521810"
   },
   "outputs": [
    {
     "name": "stdout",
     "output_type": "stream",
     "text": [
      "1/1 [==============================] - 0s 99ms/step\n"
     ]
    },
    {
     "data": {
      "application/vnd.google.colaboratory.intrinsic+json": {
       "type": "string"
      },
      "text/plain": [
       "'Abuse'"
      ]
     },
     "execution_count": 35,
     "metadata": {},
     "output_type": "execute_result"
    }
   ],
   "source": [
    "img= image.load_img(\"/content/Test/Abuse/Abuse028_x264_0.png\",target_size=(64,64))\n",
    "x=image.img_to_array(img)\n",
    "x=np.expand_dims(x,axis=0)\n",
    "pred=np.argmax(model.predict(x))\n",
    "op=['Fighting','Arrest','Vandalism','Assault','Stealing','Arson','NormalVideos','Abuse','Explosion','Robbery','Burglary','Shooting','Shoplifting','RoadAccidents']\n",
    "op[pred]"
   ]
  }
 ],
 "metadata": {
  "accelerator": "GPU",
  "colab": {
   "provenance": []
  },
  "kernelspec": {
   "display_name": "Python 3",
   "language": "python",
   "name": "python3"
  },
  "language_info": {
   "codemirror_mode": {
    "name": "ipython",
    "version": 3
   },
   "file_extension": ".py",
   "mimetype": "text/x-python",
   "name": "python",
   "nbconvert_exporter": "python",
   "pygments_lexer": "ipython3",
   "version": "3.6.13"
  }
 },
 "nbformat": 4,
 "nbformat_minor": 1
}
