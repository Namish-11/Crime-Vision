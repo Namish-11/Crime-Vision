{
  "nbformat": 4,
  "nbformat_minor": 0,
  "metadata": {
    "colab": {
      "provenance": []
    },
    "kernelspec": {
      "name": "python3",
      "display_name": "Python 3"
    },
    "language_info": {
      "name": "python"
    }
  },
  "cells": [
    {
      "cell_type": "code",
      "execution_count": null,
      "metadata": {
        "colab": {
          "base_uri": "https://localhost:8080/"
        },
        "id": "h9jtQn2DLS5r",
        "outputId": "02e71232-9c90-48f0-cc7c-52d220a5752c"
      },
      "outputs": [
        {
          "output_type": "stream",
          "name": "stdout",
          "text": [
            "   Feature 1  Feature 2  Feature 3  Feature 4\n",
            "0   0.472986  -0.681426   0.242439  -1.700736\n",
            "1   0.753143  -1.534721   0.005127  -0.120228\n",
            "2  -0.806982   2.871819  -0.597823   0.472457\n",
            "3   1.095956  -1.215169   1.342356  -0.122150\n"
          ]
        }
      ],
      "source": [
        "import pandas as pd\n",
        "import numpy as np\n",
        "\n",
        "np.random.seed(12)\n",
        "\n",
        "data = np.random.randn(4, 4)\n",
        "df = pd.DataFrame(data, columns=['Feature 1', 'Feature 2', 'Feature 3', 'Feature 4'])\n",
        "print(df)"
      ]
    },
    {
      "cell_type": "code",
      "source": [
        "df.rename(columns={\n",
        "    'Feature 1': 'Random value 1',\n",
        "    'Feature 2': 'Random value 2',\n",
        "    'Feature 3': 'Random value 3',\n",
        "    'Feature 4': 'Random value 4'\n",
        "}, inplace=True)\n",
        "\n",
        "print(df)\n"
      ],
      "metadata": {
        "colab": {
          "base_uri": "https://localhost:8080/"
        },
        "id": "kbZLehUVMKQn",
        "outputId": "57793013-8af3-47a4-f06a-f966e9fdc39f"
      },
      "execution_count": null,
      "outputs": [
        {
          "output_type": "stream",
          "name": "stdout",
          "text": [
            "   Random value 1  Random value 2  Random value 3  Random value 4\n",
            "0        0.472986       -0.681426        0.242439       -1.700736\n",
            "1        0.753143       -1.534721        0.005127       -0.120228\n",
            "2       -0.806982        2.871819       -0.597823        0.472457\n",
            "3        1.095956       -1.215169        1.342356       -0.122150\n"
          ]
        }
      ]
    },
    {
      "cell_type": "code",
      "source": [
        "descriptive_stats = df.describe()\n",
        "print(descriptive_stats)\n"
      ],
      "metadata": {
        "colab": {
          "base_uri": "https://localhost:8080/"
        },
        "id": "iRKH_dtTMpBc",
        "outputId": "5ff6631e-99ee-4206-e4ea-4b80bc03da6e"
      },
      "execution_count": null,
      "outputs": [
        {
          "output_type": "stream",
          "name": "stdout",
          "text": [
            "       Random value 1  Random value 2  Random value 3  Random value 4\n",
            "count        4.000000        4.000000        4.000000        4.000000\n",
            "mean         0.378776       -0.139874        0.248025       -0.367664\n",
            "std          0.830541        2.038417        0.810771        0.931734\n",
            "min         -0.806982       -1.534721       -0.597823       -1.700736\n",
            "25%          0.152994       -1.295057       -0.145610       -0.516796\n",
            "50%          0.613064       -0.948297        0.123783       -0.121189\n",
            "75%          0.838846        0.206885        0.517419        0.027943\n",
            "max          1.095956        2.871819        1.342356        0.472457\n"
          ]
        }
      ]
    },
    {
      "cell_type": "code",
      "source": [
        "df.info()\n"
      ],
      "metadata": {
        "colab": {
          "base_uri": "https://localhost:8080/"
        },
        "id": "GyHB7eB-MxWj",
        "outputId": "36d3acbf-4daa-49db-d029-41e32e571cc3"
      },
      "execution_count": null,
      "outputs": [
        {
          "output_type": "stream",
          "name": "stdout",
          "text": [
            "<class 'pandas.core.frame.DataFrame'>\n",
            "RangeIndex: 4 entries, 0 to 3\n",
            "Data columns (total 4 columns):\n",
            " #   Column          Non-Null Count  Dtype  \n",
            "---  ------          --------------  -----  \n",
            " 0   Random value 1  4 non-null      float64\n",
            " 1   Random value 2  4 non-null      float64\n",
            " 2   Random value 3  4 non-null      float64\n",
            " 3   Random value 4  4 non-null      float64\n",
            "dtypes: float64(4)\n",
            "memory usage: 256.0 bytes\n"
          ]
        }
      ]
    },
    {
      "cell_type": "code",
      "source": [
        "print(\"Using location method\")\n",
        "# Display columns using the location method\n",
        "columns_location = df.loc[:, ['Random value 2', 'Random value 3']]\n",
        "print(columns_location)\n",
        "\n",
        "\n",
        "print(\"\\nUsing index location method\")\n",
        "# Display columns using the index location method\n",
        "index_location = df.iloc[:, [1, 2]]\n",
        "print(index_location)\n"
      ],
      "metadata": {
        "colab": {
          "base_uri": "https://localhost:8080/"
        },
        "id": "YXsRxQQ6M6Sk",
        "outputId": "57807140-e7e0-4ae5-c52f-d85884994167"
      },
      "execution_count": null,
      "outputs": [
        {
          "output_type": "stream",
          "name": "stdout",
          "text": [
            "Using location method\n",
            "   Random value 2  Random value 3\n",
            "0       -0.681426        0.242439\n",
            "1       -1.534721        0.005127\n",
            "2        2.871819       -0.597823\n",
            "3       -1.215169        1.342356\n",
            "\n",
            "Using index location method\n",
            "   Random value 2  Random value 3\n",
            "0       -0.681426        0.242439\n",
            "1       -1.534721        0.005127\n",
            "2        2.871819       -0.597823\n",
            "3       -1.215169        1.342356\n"
          ]
        }
      ]
    }
  ]
}