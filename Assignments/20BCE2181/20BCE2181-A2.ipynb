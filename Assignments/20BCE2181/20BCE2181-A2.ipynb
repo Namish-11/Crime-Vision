{
  "nbformat": 4,
  "nbformat_minor": 0,
  "metadata": {
    "colab": {
      "provenance": []
    },
    "kernelspec": {
      "name": "python3",
      "display_name": "Python 3"
    },
    "language_info": {
      "name": "python"
    }
  },
  "cells": [
    {
      "cell_type": "code",
      "source": [
        "import pandas as pd\n",
        "import numpy as np\n",
        "from sklearn.model_selection import train_test_split\n",
        "from sklearn.preprocessing import LabelEncoder, StandardScaler\n",
        "from tensorflow.keras.models import Sequential\n",
        "from tensorflow.keras.layers import Dense"
      ],
      "metadata": {
        "id": "Evv3xmH1y1w_"
      },
      "execution_count": null,
      "outputs": []
    },
    {
      "cell_type": "code",
      "source": [
        "# task 1:  Read the dataset and do data pre-processing\n",
        "\n",
        "# Read data\n",
        "data = pd.read_csv('/content/drug-classification.csv')\n",
        "\n",
        "# Split features and labels\n",
        "features = data.drop('Drug', axis=1)\n",
        "labels = data['Drug']\n",
        "\n",
        "# Perform label encoding for categorical variables\n",
        "label_encoder = LabelEncoder()\n",
        "labels = label_encoder.fit_transform(labels)\n",
        "\n",
        "# Perform one-hot encoding for categorical features\n",
        "features = pd.get_dummies(features)\n",
        "\n",
        "# Split the dataset into training and testing sets\n",
        "X_train, X_test, y_train, y_test = train_test_split(features, labels, test_size=0.2, random_state=42)\n",
        "\n",
        "# Scale the numerical features\n",
        "scaler = StandardScaler()\n",
        "X_train = scaler.fit_transform(X_train)\n",
        "X_test = scaler.transform(X_test)"
      ],
      "metadata": {
        "id": "Y6ZyRQ2Ay5UW"
      },
      "execution_count": null,
      "outputs": []
    },
    {
      "cell_type": "code",
      "source": [
        "# Task 2: Build the ANN model\n",
        "model = Sequential()\n",
        "\n",
        "# Add input layer and the first hidden layer\n",
        "model.add(Dense(64, activation='relu', input_shape=(X_train.shape[1],)))\n",
        "\n",
        "# Add additional hidden layers\n",
        "model.add(Dense(32, activation='relu'))\n",
        "model.add(Dense(16, activation='relu'))\n",
        "model.add(Dense(8, activation='relu'))\n",
        "\n",
        "# Add the output layer\n",
        "model.add(Dense(5, activation='softmax'))\n",
        "\n",
        "# Compile the model\n",
        "model.compile(loss='sparse_categorical_crossentropy', optimizer='adam', metrics=['accuracy'])\n",
        "\n",
        "# Train the model\n",
        "model.fit(X_train, y_train, epochs=50, batch_size=32, verbose=1)\n"
      ],
      "metadata": {
        "colab": {
          "base_uri": "https://localhost:8080/"
        },
        "id": "zbNL6I60zLfc",
        "outputId": "369cad8f-1cce-42be-f5bf-bec33f899376"
      },
      "execution_count": null,
      "outputs": [
        {
          "output_type": "stream",
          "name": "stdout",
          "text": [
            "Epoch 1/50\n",
            "5/5 [==============================] - 1s 3ms/step - loss: 1.5346 - accuracy: 0.4375\n",
            "Epoch 2/50\n",
            "5/5 [==============================] - 0s 3ms/step - loss: 1.4513 - accuracy: 0.5437\n",
            "Epoch 3/50\n",
            "5/5 [==============================] - 0s 3ms/step - loss: 1.3812 - accuracy: 0.5250\n",
            "Epoch 4/50\n",
            "5/5 [==============================] - 0s 3ms/step - loss: 1.3174 - accuracy: 0.5250\n",
            "Epoch 5/50\n",
            "5/5 [==============================] - 0s 3ms/step - loss: 1.2541 - accuracy: 0.5250\n",
            "Epoch 6/50\n",
            "5/5 [==============================] - 0s 3ms/step - loss: 1.1965 - accuracy: 0.5500\n",
            "Epoch 7/50\n",
            "5/5 [==============================] - 0s 3ms/step - loss: 1.1435 - accuracy: 0.5938\n",
            "Epoch 8/50\n",
            "5/5 [==============================] - 0s 3ms/step - loss: 1.0858 - accuracy: 0.6250\n",
            "Epoch 9/50\n",
            "5/5 [==============================] - 0s 4ms/step - loss: 1.0265 - accuracy: 0.6438\n",
            "Epoch 10/50\n",
            "5/5 [==============================] - 0s 2ms/step - loss: 0.9677 - accuracy: 0.6562\n",
            "Epoch 11/50\n",
            "5/5 [==============================] - 0s 2ms/step - loss: 0.9124 - accuracy: 0.6625\n",
            "Epoch 12/50\n",
            "5/5 [==============================] - 0s 2ms/step - loss: 0.8593 - accuracy: 0.6875\n",
            "Epoch 13/50\n",
            "5/5 [==============================] - 0s 2ms/step - loss: 0.8017 - accuracy: 0.7125\n",
            "Epoch 14/50\n",
            "5/5 [==============================] - 0s 2ms/step - loss: 0.7483 - accuracy: 0.7375\n",
            "Epoch 15/50\n",
            "5/5 [==============================] - 0s 2ms/step - loss: 0.6911 - accuracy: 0.7750\n",
            "Epoch 16/50\n",
            "5/5 [==============================] - 0s 2ms/step - loss: 0.6349 - accuracy: 0.8062\n",
            "Epoch 17/50\n",
            "5/5 [==============================] - 0s 2ms/step - loss: 0.5798 - accuracy: 0.8250\n",
            "Epoch 18/50\n",
            "5/5 [==============================] - 0s 2ms/step - loss: 0.5235 - accuracy: 0.8188\n",
            "Epoch 19/50\n",
            "5/5 [==============================] - 0s 2ms/step - loss: 0.4811 - accuracy: 0.8313\n",
            "Epoch 20/50\n",
            "5/5 [==============================] - 0s 2ms/step - loss: 0.4437 - accuracy: 0.8375\n",
            "Epoch 21/50\n",
            "5/5 [==============================] - 0s 2ms/step - loss: 0.4172 - accuracy: 0.8375\n",
            "Epoch 22/50\n",
            "5/5 [==============================] - 0s 3ms/step - loss: 0.3921 - accuracy: 0.8438\n",
            "Epoch 23/50\n",
            "5/5 [==============================] - 0s 3ms/step - loss: 0.3728 - accuracy: 0.8438\n",
            "Epoch 24/50\n",
            "5/5 [==============================] - 0s 2ms/step - loss: 0.3561 - accuracy: 0.8438\n",
            "Epoch 25/50\n",
            "5/5 [==============================] - 0s 6ms/step - loss: 0.3412 - accuracy: 0.8438\n",
            "Epoch 26/50\n",
            "5/5 [==============================] - 0s 2ms/step - loss: 0.3285 - accuracy: 0.8438\n",
            "Epoch 27/50\n",
            "5/5 [==============================] - 0s 4ms/step - loss: 0.3179 - accuracy: 0.8438\n",
            "Epoch 28/50\n",
            "5/5 [==============================] - 0s 2ms/step - loss: 0.3067 - accuracy: 0.8438\n",
            "Epoch 29/50\n",
            "5/5 [==============================] - 0s 3ms/step - loss: 0.2961 - accuracy: 0.8438\n",
            "Epoch 30/50\n",
            "5/5 [==============================] - 0s 2ms/step - loss: 0.2894 - accuracy: 0.8438\n",
            "Epoch 31/50\n",
            "5/5 [==============================] - 0s 2ms/step - loss: 0.2795 - accuracy: 0.8438\n",
            "Epoch 32/50\n",
            "5/5 [==============================] - 0s 2ms/step - loss: 0.2709 - accuracy: 0.8500\n",
            "Epoch 33/50\n",
            "5/5 [==============================] - 0s 2ms/step - loss: 0.2645 - accuracy: 0.8500\n",
            "Epoch 34/50\n",
            "5/5 [==============================] - 0s 4ms/step - loss: 0.2555 - accuracy: 0.8500\n",
            "Epoch 35/50\n",
            "5/5 [==============================] - 0s 4ms/step - loss: 0.2481 - accuracy: 0.8500\n",
            "Epoch 36/50\n",
            "5/5 [==============================] - 0s 3ms/step - loss: 0.2420 - accuracy: 0.8500\n",
            "Epoch 37/50\n",
            "5/5 [==============================] - 0s 4ms/step - loss: 0.2345 - accuracy: 0.8500\n",
            "Epoch 38/50\n",
            "5/5 [==============================] - 0s 4ms/step - loss: 0.2284 - accuracy: 0.8687\n",
            "Epoch 39/50\n",
            "5/5 [==============================] - 0s 5ms/step - loss: 0.2220 - accuracy: 0.8687\n",
            "Epoch 40/50\n",
            "5/5 [==============================] - 0s 3ms/step - loss: 0.2149 - accuracy: 0.8687\n",
            "Epoch 41/50\n",
            "5/5 [==============================] - 0s 3ms/step - loss: 0.2088 - accuracy: 0.8813\n",
            "Epoch 42/50\n",
            "5/5 [==============================] - 0s 3ms/step - loss: 0.2007 - accuracy: 0.8938\n",
            "Epoch 43/50\n",
            "5/5 [==============================] - 0s 2ms/step - loss: 0.1943 - accuracy: 0.8938\n",
            "Epoch 44/50\n",
            "5/5 [==============================] - 0s 2ms/step - loss: 0.1862 - accuracy: 0.9000\n",
            "Epoch 45/50\n",
            "5/5 [==============================] - 0s 2ms/step - loss: 0.1771 - accuracy: 0.9375\n",
            "Epoch 46/50\n",
            "5/5 [==============================] - 0s 2ms/step - loss: 0.1688 - accuracy: 0.9563\n",
            "Epoch 47/50\n",
            "5/5 [==============================] - 0s 3ms/step - loss: 0.1585 - accuracy: 0.9688\n",
            "Epoch 48/50\n",
            "5/5 [==============================] - 0s 2ms/step - loss: 0.1484 - accuracy: 0.9750\n",
            "Epoch 49/50\n",
            "5/5 [==============================] - 0s 3ms/step - loss: 0.1414 - accuracy: 0.9750\n",
            "Epoch 50/50\n",
            "5/5 [==============================] - 0s 2ms/step - loss: 0.1318 - accuracy: 0.9750\n"
          ]
        },
        {
          "output_type": "execute_result",
          "data": {
            "text/plain": [
              "<keras.callbacks.History at 0x7f117a121a50>"
            ]
          },
          "metadata": {},
          "execution_count": 10
        }
      ]
    },
    {
      "cell_type": "code",
      "source": [
        "# Task 3: Test the model with random data\n",
        "\n",
        "# Generate random data for testing\n",
        "random_data = np.array([[30, 1, 120, 80, 0.5, 0, 0, 1, 0]])  # Adjust the random data according to the number of features\n",
        "\n",
        "# Make predictions on the random data\n",
        "predictions = model.predict(random_data)\n",
        "\n",
        "# Convert predictions back to drug labels\n",
        "predicted_labels = label_encoder.inverse_transform(np.argmax(predictions, axis=1))\n",
        "\n",
        "# Print the predicted labels\n",
        "print(\"Predicted Drug Class:\", predicted_labels)\n"
      ],
      "metadata": {
        "colab": {
          "base_uri": "https://localhost:8080/"
        },
        "id": "5BZWdJo2zQEu",
        "outputId": "c497d1f9-7967-4d2c-9093-ce34d393300b"
      },
      "execution_count": null,
      "outputs": [
        {
          "output_type": "stream",
          "name": "stdout",
          "text": [
            "1/1 [==============================] - 0s 56ms/step\n",
            "Predicted Drug Class: ['DrugY']\n"
          ]
        }
      ]
    }
  ]
}